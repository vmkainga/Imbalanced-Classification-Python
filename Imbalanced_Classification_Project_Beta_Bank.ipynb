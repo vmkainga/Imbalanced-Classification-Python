{
  "nbformat": 4,
  "nbformat_minor": 0,
  "metadata": {
    "colab": {
      "name": "Imbalanced Classification Project- Beta Bank",
      "provenance": [],
      "collapsed_sections": []
    },
    "kernelspec": {
      "display_name": "Python 3",
      "language": "python",
      "name": "python3"
    },
    "language_info": {
      "codemirror_mode": {
        "name": "ipython",
        "version": 3
      },
      "file_extension": ".py",
      "mimetype": "text/x-python",
      "name": "python",
      "nbconvert_exporter": "python",
      "pygments_lexer": "ipython3",
      "version": "3.7.4"
    }
  },
  "cells": [
    {
      "cell_type": "markdown",
      "metadata": {
        "id": "czJUgQ-6cA_p"
      },
      "source": [
        "#Imbalanced Classification Project- Beta Bank\n",
        "\n"
      ]
    },
    {
      "cell_type": "markdown",
      "metadata": {
        "id": "gLkzO7IdcA_r"
      },
      "source": [
        "## 1. Defining the Question"
      ]
    },
    {
      "cell_type": "markdown",
      "metadata": {
        "id": "JABkWE3JcA_s"
      },
      "source": [
        "### a) Specifying the Data Analysis Question"
      ]
    },
    {
      "cell_type": "markdown",
      "metadata": {
        "id": "1sGZ56H7cA_t"
      },
      "source": [
        "Beta Bank need  to predict whether a customer will leave the bank soon"
      ]
    },
    {
      "cell_type": "markdown",
      "metadata": {
        "id": "8XxsPjnQcA_t"
      },
      "source": [
        "### b) Defining the Metric for Success"
      ]
    },
    {
      "cell_type": "markdown",
      "metadata": {
        "id": "100AFlNtcA_u"
      },
      "source": [
        "We will have accomplished our objective if we build a high accuarcy model (F1 Score>0.59) that predicts whether a customer will leave the bank soon"
      ]
    },
    {
      "cell_type": "markdown",
      "metadata": {
        "id": "SrzhnVvbcA_v"
      },
      "source": [
        "### c) Understanding the Context"
      ]
    },
    {
      "cell_type": "markdown",
      "metadata": {
        "id": "ehi1alkgcA_v"
      },
      "source": [
        "Beta Bank customers are leaving: little by little, chipping away every month. The bankers\n",
        "figured out it’s cheaper to save the existing customers rather than to attract new ones.\n",
        "We need to predict whether a customer will leave the bank soon. Data on\n",
        "clients’ past behavior and termination of contracts with the bank is available\n"
      ]
    },
    {
      "cell_type": "markdown",
      "metadata": {
        "id": "IV0fyMl_cA_w"
      },
      "source": [
        "### d) Recording the Experimental Design"
      ]
    },
    {
      "cell_type": "markdown",
      "metadata": {
        "id": "2-crdiQgcA_x"
      },
      "source": [
        "1. Load libraries and datasets.\n",
        "2. Prepare the data\n",
        "3. Analyze the data\n",
        "4. Build model\n",
        "5. Conclusions and recommedation"
      ]
    },
    {
      "cell_type": "markdown",
      "metadata": {
        "id": "rz5Qg2aocA_x"
      },
      "source": [
        "### e) Data Relevance"
      ]
    },
    {
      "cell_type": "markdown",
      "metadata": {
        "id": "y3c-bdsRcA_y"
      },
      "source": [
        "The given data sets were relevant in answering the research question."
      ]
    },
    {
      "cell_type": "markdown",
      "metadata": {
        "id": "jefIDLCVcA_z"
      },
      "source": [
        "## 2. Data Cleaning & Analysis"
      ]
    },
    {
      "cell_type": "code",
      "metadata": {
        "id": "MBnxcOeRZOjU"
      },
      "source": [
        "# Loading the required libraries\n",
        "\n",
        "import pandas as pd\n",
        "\n",
        "import numpy as np\n",
        "\n"
      ],
      "execution_count": null,
      "outputs": []
    },
    {
      "cell_type": "code",
      "metadata": {
        "colab": {
          "base_uri": "https://localhost:8080/",
          "height": 223
        },
        "id": "DY3GsHq1Zmbs",
        "outputId": "248a1926-4a79-4f0d-df93-1657b75c0082"
      },
      "source": [
        "#read dataset\n",
        "churn_df=pd.read_csv(\"https://bit.ly/2XZK7Bo\")\n",
        "\n",
        "churn_df.head()"
      ],
      "execution_count": null,
      "outputs": [
        {
          "output_type": "execute_result",
          "data": {
            "text/html": [
              "<div>\n",
              "<style scoped>\n",
              "    .dataframe tbody tr th:only-of-type {\n",
              "        vertical-align: middle;\n",
              "    }\n",
              "\n",
              "    .dataframe tbody tr th {\n",
              "        vertical-align: top;\n",
              "    }\n",
              "\n",
              "    .dataframe thead th {\n",
              "        text-align: right;\n",
              "    }\n",
              "</style>\n",
              "<table border=\"1\" class=\"dataframe\">\n",
              "  <thead>\n",
              "    <tr style=\"text-align: right;\">\n",
              "      <th></th>\n",
              "      <th>RowNumber</th>\n",
              "      <th>CustomerId</th>\n",
              "      <th>Surname</th>\n",
              "      <th>CreditScore</th>\n",
              "      <th>Geography</th>\n",
              "      <th>Gender</th>\n",
              "      <th>Age</th>\n",
              "      <th>Tenure</th>\n",
              "      <th>Balance</th>\n",
              "      <th>NumOfProducts</th>\n",
              "      <th>HasCrCard</th>\n",
              "      <th>IsActiveMember</th>\n",
              "      <th>EstimatedSalary</th>\n",
              "      <th>Exited</th>\n",
              "    </tr>\n",
              "  </thead>\n",
              "  <tbody>\n",
              "    <tr>\n",
              "      <th>0</th>\n",
              "      <td>1</td>\n",
              "      <td>15634602</td>\n",
              "      <td>Hargrave</td>\n",
              "      <td>619</td>\n",
              "      <td>France</td>\n",
              "      <td>Female</td>\n",
              "      <td>42</td>\n",
              "      <td>2.0</td>\n",
              "      <td>0.00</td>\n",
              "      <td>1</td>\n",
              "      <td>1</td>\n",
              "      <td>1</td>\n",
              "      <td>101348.88</td>\n",
              "      <td>1</td>\n",
              "    </tr>\n",
              "    <tr>\n",
              "      <th>1</th>\n",
              "      <td>2</td>\n",
              "      <td>15647311</td>\n",
              "      <td>Hill</td>\n",
              "      <td>608</td>\n",
              "      <td>Spain</td>\n",
              "      <td>Female</td>\n",
              "      <td>41</td>\n",
              "      <td>1.0</td>\n",
              "      <td>83807.86</td>\n",
              "      <td>1</td>\n",
              "      <td>0</td>\n",
              "      <td>1</td>\n",
              "      <td>112542.58</td>\n",
              "      <td>0</td>\n",
              "    </tr>\n",
              "    <tr>\n",
              "      <th>2</th>\n",
              "      <td>3</td>\n",
              "      <td>15619304</td>\n",
              "      <td>Onio</td>\n",
              "      <td>502</td>\n",
              "      <td>France</td>\n",
              "      <td>Female</td>\n",
              "      <td>42</td>\n",
              "      <td>8.0</td>\n",
              "      <td>159660.80</td>\n",
              "      <td>3</td>\n",
              "      <td>1</td>\n",
              "      <td>0</td>\n",
              "      <td>113931.57</td>\n",
              "      <td>1</td>\n",
              "    </tr>\n",
              "    <tr>\n",
              "      <th>3</th>\n",
              "      <td>4</td>\n",
              "      <td>15701354</td>\n",
              "      <td>Boni</td>\n",
              "      <td>699</td>\n",
              "      <td>France</td>\n",
              "      <td>Female</td>\n",
              "      <td>39</td>\n",
              "      <td>1.0</td>\n",
              "      <td>0.00</td>\n",
              "      <td>2</td>\n",
              "      <td>0</td>\n",
              "      <td>0</td>\n",
              "      <td>93826.63</td>\n",
              "      <td>0</td>\n",
              "    </tr>\n",
              "    <tr>\n",
              "      <th>4</th>\n",
              "      <td>5</td>\n",
              "      <td>15737888</td>\n",
              "      <td>Mitchell</td>\n",
              "      <td>850</td>\n",
              "      <td>Spain</td>\n",
              "      <td>Female</td>\n",
              "      <td>43</td>\n",
              "      <td>2.0</td>\n",
              "      <td>125510.82</td>\n",
              "      <td>1</td>\n",
              "      <td>1</td>\n",
              "      <td>1</td>\n",
              "      <td>79084.10</td>\n",
              "      <td>0</td>\n",
              "    </tr>\n",
              "  </tbody>\n",
              "</table>\n",
              "</div>"
            ],
            "text/plain": [
              "   RowNumber  CustomerId   Surname  ...  IsActiveMember EstimatedSalary Exited\n",
              "0          1    15634602  Hargrave  ...               1       101348.88      1\n",
              "1          2    15647311      Hill  ...               1       112542.58      0\n",
              "2          3    15619304      Onio  ...               0       113931.57      1\n",
              "3          4    15701354      Boni  ...               0        93826.63      0\n",
              "4          5    15737888  Mitchell  ...               1        79084.10      0\n",
              "\n",
              "[5 rows x 14 columns]"
            ]
          },
          "metadata": {},
          "execution_count": 123
        }
      ]
    },
    {
      "cell_type": "code",
      "metadata": {
        "id": "OdQK_g54vuu7",
        "colab": {
          "base_uri": "https://localhost:8080/"
        },
        "outputId": "d88a71c0-d4e5-4bba-a752-55dfe261901b"
      },
      "source": [
        "churn_df.shape"
      ],
      "execution_count": null,
      "outputs": [
        {
          "output_type": "execute_result",
          "data": {
            "text/plain": [
              "(10000, 14)"
            ]
          },
          "metadata": {},
          "execution_count": 7
        }
      ]
    },
    {
      "cell_type": "code",
      "metadata": {
        "colab": {
          "base_uri": "https://localhost:8080/"
        },
        "id": "7D2ffdTDSz32",
        "outputId": "bdfffbd8-d4b9-4b8d-bb64-91800588951c"
      },
      "source": [
        "#check null values in each column\n",
        "churn_df.isnull().sum()"
      ],
      "execution_count": null,
      "outputs": [
        {
          "output_type": "execute_result",
          "data": {
            "text/plain": [
              "RowNumber            0\n",
              "CustomerId           0\n",
              "Surname              0\n",
              "CreditScore          0\n",
              "Geography            0\n",
              "Gender               0\n",
              "Age                  0\n",
              "Tenure             909\n",
              "Balance              0\n",
              "NumOfProducts        0\n",
              "HasCrCard            0\n",
              "IsActiveMember       0\n",
              "EstimatedSalary      0\n",
              "Exited               0\n",
              "dtype: int64"
            ]
          },
          "metadata": {},
          "execution_count": 115
        }
      ]
    },
    {
      "cell_type": "code",
      "metadata": {
        "id": "IFsG-ngtSpGx"
      },
      "source": [
        "\n",
        "#Drop unnecessary columns\n",
        "churn_df.drop(['RowNumber'], axis=1, inplace=True)\n",
        "churn_df.drop(['CustomerId'], axis=1, inplace=True)\n",
        "churn_df.drop(['Surname'], axis=1, inplace=True)\n",
        "\n",
        "\n",
        "churn_df = churn_df[churn_df['Tenure'].notna()]\n",
        "\n",
        "\n",
        "#One hot encoding to convert non-numerical to numerical categories\n",
        "new_churn_df= pd.get_dummies(churn_df)"
      ],
      "execution_count": null,
      "outputs": []
    },
    {
      "cell_type": "code",
      "metadata": {
        "colab": {
          "base_uri": "https://localhost:8080/",
          "height": 223
        },
        "id": "IV8MFzKkUo3v",
        "outputId": "0398f973-94f8-41b6-d582-5ac794158288"
      },
      "source": [
        "new_churn_df.head()"
      ],
      "execution_count": null,
      "outputs": [
        {
          "output_type": "execute_result",
          "data": {
            "text/html": [
              "<div>\n",
              "<style scoped>\n",
              "    .dataframe tbody tr th:only-of-type {\n",
              "        vertical-align: middle;\n",
              "    }\n",
              "\n",
              "    .dataframe tbody tr th {\n",
              "        vertical-align: top;\n",
              "    }\n",
              "\n",
              "    .dataframe thead th {\n",
              "        text-align: right;\n",
              "    }\n",
              "</style>\n",
              "<table border=\"1\" class=\"dataframe\">\n",
              "  <thead>\n",
              "    <tr style=\"text-align: right;\">\n",
              "      <th></th>\n",
              "      <th>CreditScore</th>\n",
              "      <th>Age</th>\n",
              "      <th>Tenure</th>\n",
              "      <th>Balance</th>\n",
              "      <th>NumOfProducts</th>\n",
              "      <th>HasCrCard</th>\n",
              "      <th>IsActiveMember</th>\n",
              "      <th>EstimatedSalary</th>\n",
              "      <th>Exited</th>\n",
              "      <th>Geography_France</th>\n",
              "      <th>Geography_Germany</th>\n",
              "      <th>Geography_Spain</th>\n",
              "      <th>Gender_Female</th>\n",
              "      <th>Gender_Male</th>\n",
              "    </tr>\n",
              "  </thead>\n",
              "  <tbody>\n",
              "    <tr>\n",
              "      <th>0</th>\n",
              "      <td>619</td>\n",
              "      <td>42</td>\n",
              "      <td>2.0</td>\n",
              "      <td>0.00</td>\n",
              "      <td>1</td>\n",
              "      <td>1</td>\n",
              "      <td>1</td>\n",
              "      <td>101348.88</td>\n",
              "      <td>1</td>\n",
              "      <td>1</td>\n",
              "      <td>0</td>\n",
              "      <td>0</td>\n",
              "      <td>1</td>\n",
              "      <td>0</td>\n",
              "    </tr>\n",
              "    <tr>\n",
              "      <th>1</th>\n",
              "      <td>608</td>\n",
              "      <td>41</td>\n",
              "      <td>1.0</td>\n",
              "      <td>83807.86</td>\n",
              "      <td>1</td>\n",
              "      <td>0</td>\n",
              "      <td>1</td>\n",
              "      <td>112542.58</td>\n",
              "      <td>0</td>\n",
              "      <td>0</td>\n",
              "      <td>0</td>\n",
              "      <td>1</td>\n",
              "      <td>1</td>\n",
              "      <td>0</td>\n",
              "    </tr>\n",
              "    <tr>\n",
              "      <th>2</th>\n",
              "      <td>502</td>\n",
              "      <td>42</td>\n",
              "      <td>8.0</td>\n",
              "      <td>159660.80</td>\n",
              "      <td>3</td>\n",
              "      <td>1</td>\n",
              "      <td>0</td>\n",
              "      <td>113931.57</td>\n",
              "      <td>1</td>\n",
              "      <td>1</td>\n",
              "      <td>0</td>\n",
              "      <td>0</td>\n",
              "      <td>1</td>\n",
              "      <td>0</td>\n",
              "    </tr>\n",
              "    <tr>\n",
              "      <th>3</th>\n",
              "      <td>699</td>\n",
              "      <td>39</td>\n",
              "      <td>1.0</td>\n",
              "      <td>0.00</td>\n",
              "      <td>2</td>\n",
              "      <td>0</td>\n",
              "      <td>0</td>\n",
              "      <td>93826.63</td>\n",
              "      <td>0</td>\n",
              "      <td>1</td>\n",
              "      <td>0</td>\n",
              "      <td>0</td>\n",
              "      <td>1</td>\n",
              "      <td>0</td>\n",
              "    </tr>\n",
              "    <tr>\n",
              "      <th>4</th>\n",
              "      <td>850</td>\n",
              "      <td>43</td>\n",
              "      <td>2.0</td>\n",
              "      <td>125510.82</td>\n",
              "      <td>1</td>\n",
              "      <td>1</td>\n",
              "      <td>1</td>\n",
              "      <td>79084.10</td>\n",
              "      <td>0</td>\n",
              "      <td>0</td>\n",
              "      <td>0</td>\n",
              "      <td>1</td>\n",
              "      <td>1</td>\n",
              "      <td>0</td>\n",
              "    </tr>\n",
              "  </tbody>\n",
              "</table>\n",
              "</div>"
            ],
            "text/plain": [
              "   CreditScore  Age  Tenure  ...  Geography_Spain  Gender_Female  Gender_Male\n",
              "0          619   42     2.0  ...                0              1            0\n",
              "1          608   41     1.0  ...                1              1            0\n",
              "2          502   42     8.0  ...                0              1            0\n",
              "3          699   39     1.0  ...                0              1            0\n",
              "4          850   43     2.0  ...                1              1            0\n",
              "\n",
              "[5 rows x 14 columns]"
            ]
          },
          "metadata": {},
          "execution_count": 117
        }
      ]
    },
    {
      "cell_type": "code",
      "metadata": {
        "colab": {
          "base_uri": "https://localhost:8080/"
        },
        "id": "xpyJlrbqVKWX",
        "outputId": "facc5e2f-c9c1-4abb-8bd4-a2170cc3eb80"
      },
      "source": [
        "\n",
        "from sklearn.model_selection import train_test_split\n",
        "from sklearn.preprocessing import StandardScaler\n",
        "import warnings\n",
        "warnings.filterwarnings('ignore')\n",
        "\n",
        "#get target and features\n",
        "target = new_churn_df['Exited']\n",
        "features = new_churn_df.drop(['Exited'], axis=1)\n",
        "\n",
        "#check class balance\n",
        "\n",
        "class_0 = new_churn_df[new_churn_df['Exited'] == 0]\n",
        "class_1 = new_churn_df[new_churn_df['Exited'] == 1]# print the shape of the class\n",
        "print('class 0:', class_0.shape)\n",
        "print('class 1:', class_1.shape)\n",
        "\n",
        "\n",
        "\n"
      ],
      "execution_count": null,
      "outputs": [
        {
          "output_type": "stream",
          "name": "stdout",
          "text": [
            "class 0: (7237, 14)\n",
            "class 1: (1854, 14)\n"
          ]
        }
      ]
    },
    {
      "cell_type": "markdown",
      "metadata": {
        "id": "PEg4aNJo6k3_"
      },
      "source": [
        "observation: There is an imbalance of classes"
      ]
    },
    {
      "cell_type": "markdown",
      "metadata": {
        "id": "z1et9jwG6r0N"
      },
      "source": [
        "##Models with imbalanced classes"
      ]
    },
    {
      "cell_type": "code",
      "metadata": {
        "colab": {
          "base_uri": "https://localhost:8080/"
        },
        "id": "pLCe7kti4vL9",
        "outputId": "2b1e72c2-eee2-4e68-856f-98024602be0a"
      },
      "source": [
        "# check behaviour of model with imbalanced classes\n",
        "features_train, features_valid, target_train, target_valid = train_test_split(\n",
        "    features, target, test_size=0.25)\n",
        "\n",
        "from sklearn.linear_model import LogisticRegression\n",
        "from sklearn.metrics import roc_auc_score\n",
        "from sklearn.metrics import f1_score\n",
        "from sklearn.ensemble import RandomForestClassifier\n",
        "\n",
        "model= LogisticRegression(random_state = 12345)\n",
        "model1 = RandomForestClassifier()\n",
        "\n",
        "#fit model\n",
        "model.fit(features_train, target_train)\n",
        "model1.fit(features_train, target_train)\n",
        "# Predict the test data\n",
        "predicted_valid = model.predict(features_valid)\n",
        "predicted_valid1 = model1.predict(features_valid)\n",
        "\n",
        "print('LogisticRegression: ROC AUC = ',str(round(roc_auc_score(target_valid, predicted_valid)*100,1)), '%')\n",
        "print('LogisticRegression: F1-Score = ',str(round(f1_score(target_valid, predicted_valid)*100,1)), '%')\n",
        "\n",
        "print('RandomForestClassifier: ROC AUC = ',str(round(roc_auc_score(target_valid, predicted_valid1)*100,1)), '%')\n",
        "print('RandomForestClassifier: F1-Score = ',str(round(f1_score(target_valid, predicted_valid1)*100,1)), '%')\n",
        "\n"
      ],
      "execution_count": null,
      "outputs": [
        {
          "output_type": "stream",
          "name": "stdout",
          "text": [
            "LogisticRegression: ROC AUC =  51.5 %\n",
            "LogisticRegression: F1-Score =  9.3 %\n",
            "RandomForestClassifier: ROC AUC =  70.3 %\n",
            "RandomForestClassifier: F1-Score =  56.4 %\n"
          ]
        }
      ]
    },
    {
      "cell_type": "markdown",
      "metadata": {
        "id": "UXKtLv5cz-jN"
      },
      "source": [
        "##Dealing with Imbalanced Classes"
      ]
    },
    {
      "cell_type": "markdown",
      "metadata": {
        "id": "bDGCW2Z42F8G"
      },
      "source": [
        "##Method 1"
      ]
    },
    {
      "cell_type": "markdown",
      "metadata": {
        "id": "UYeUM1OQ18Ss"
      },
      "source": [
        "####NearMiss"
      ]
    },
    {
      "cell_type": "code",
      "metadata": {
        "id": "I_z1BE8Lfo21"
      },
      "source": [
        "#a) Using Nearmiss which is an undersampling technique\n",
        "from imblearn.under_sampling import NearMiss\n",
        "\n",
        "nm = NearMiss()\n",
        "features_nm, target_nm = nm.fit_resample(features, target)\n",
        "\n",
        "#split dataset into train and test data\n",
        "features_train, features_valid, target_train, target_valid = train_test_split(\n",
        "    features_nm, target_nm, test_size=0.25)\n",
        "\n",
        "\n",
        "\n"
      ],
      "execution_count": null,
      "outputs": []
    },
    {
      "cell_type": "code",
      "metadata": {
        "colab": {
          "base_uri": "https://localhost:8080/"
        },
        "id": "xmm_nZjdjrTt",
        "outputId": "b6d5823a-4202-478f-db76-04aff2670bc8"
      },
      "source": [
        " #Build and evaluate Logistic regression Model with the Balanced data\n",
        "\n",
        "\n",
        "LogisticRegressionclf= LogisticRegression(random_state = 12345)\n",
        "\n",
        "#fit model\n",
        "LogisticRegressionclf.fit(features_train, target_train)\n",
        "\n",
        "# Predict the test data\n",
        "y_predicted = LogisticRegressionclf.predict(features_valid)\n",
        "\n",
        "\n",
        "print('LogisticRegression: ROC AUC = ',str(round(roc_auc_score(target_valid, y_predicted)*100,1)), '%')\n",
        "print('LogisticRegression: F1-Score = ',str(round(f1_score(target_valid, y_predicted)*100,1)), '%')\n"
      ],
      "execution_count": null,
      "outputs": [
        {
          "output_type": "stream",
          "name": "stdout",
          "text": [
            "LogisticRegression: ROC AUC =  87.7 %\n",
            "LogisticRegression: F1-Score =  86.2 %\n"
          ]
        }
      ]
    },
    {
      "cell_type": "markdown",
      "metadata": {
        "id": "SHn37YgzpHMb"
      },
      "source": [
        "##Method 2"
      ]
    },
    {
      "cell_type": "markdown",
      "metadata": {
        "id": "nFdN0DYp1p30"
      },
      "source": [
        "####Synthetic Minority Oversampling Technique"
      ]
    },
    {
      "cell_type": "code",
      "metadata": {
        "id": "k0wnsqi31BWX"
      },
      "source": [
        "# import library\n",
        "from imblearn.over_sampling import SMOTE\n",
        "\n",
        "smote = SMOTE()\n",
        "\n",
        "# fit predictor and target variable\n",
        "features_smote, target_smote  = smote.fit_resample(features, target)\n",
        "\n",
        "#split dataset into train and test data\n",
        "features_trainn, features_validd, target_trainn, target_validd = train_test_split(\n",
        "    features_smote, target_smote, test_size=0.25)"
      ],
      "execution_count": null,
      "outputs": []
    },
    {
      "cell_type": "code",
      "metadata": {
        "colab": {
          "base_uri": "https://localhost:8080/"
        },
        "id": "JAwbhIqLtoaG",
        "outputId": "309f299f-d214-46e3-dfbc-4943a7683d41"
      },
      "source": [
        " #Build and evaluate RandomForestClassifier Model with the Balanced data\n",
        "\n",
        "from sklearn.ensemble import RandomForestClassifier\n",
        "from sklearn.metrics import accuracy_score\n",
        "from sklearn.metrics import f1_score\n",
        "from sklearn.metrics import roc_auc_score\n",
        "\n",
        "rfc = RandomForestClassifier()\n",
        "\n",
        "# fit the predictor and target\n",
        "rfc.fit(features_trainn, target_trainn)\n",
        "\n",
        "# predict\n",
        "rfc_predict = rfc.predict(features_validd)# check performance\n",
        "\n",
        "print('F1 score:',f1_score(target_validd, rfc_predict))\n",
        "print('ROC AUC:',roc_auc_score(target_validd, rfc_predict))"
      ],
      "execution_count": null,
      "outputs": [
        {
          "output_type": "stream",
          "name": "stdout",
          "text": [
            "F1 score: 0.9047483650838785\n",
            "ROC AUC: 0.9078688219141262\n"
          ]
        }
      ]
    },
    {
      "cell_type": "markdown",
      "metadata": {
        "id": "f-LbbBI64PSX"
      },
      "source": [
        "##Findings and Recommendations"
      ]
    },
    {
      "cell_type": "markdown",
      "metadata": {
        "id": "R6gSxTrt4WyU"
      },
      "source": [
        "1. Data had imbalanced classes\n",
        "2. Balancing classes imcreased the F1 score of the models"
      ]
    }
  ]
}